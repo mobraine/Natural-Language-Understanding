{
  "nbformat": 4,
  "nbformat_minor": 0,
  "metadata": {
    "colab": {
      "provenance": [],
      "include_colab_link": true
    },
    "kernelspec": {
      "display_name": "Python 3",
      "name": "python3"
    }
  },
  "cells": [
    {
      "cell_type": "markdown",
      "metadata": {
        "id": "view-in-github",
        "colab_type": "text"
      },
      "source": [
        "<a href=\"https://colab.research.google.com/github/mobraine/Natural-Language-Understanding/blob/main/%E2%80%9CNL2DS_F2021_Assignment_3_ipynb%E2%80%9D%E7%9A%84%E5%89%AF%E6%9C%AC.ipynb\" target=\"_parent\"><img src=\"https://colab.research.google.com/assets/colab-badge.svg\" alt=\"Open In Colab\"/></a>"
      ]
    },
    {
      "cell_type": "markdown",
      "metadata": {
        "id": "2FuO82RTBftK"
      },
      "source": [
        "# 1. Vector Space Model of Word Meaning\n",
        "\n",
        "The goal of this problem set is to make you familiar with vector space model of word meaning. You may reuse some of functions you coded in Assignment 1.\n",
        "\n",
        "### Warning: This assignment may take substantial time to run if you are not optimizing your code. Make sure you have plenty of time to run if you are new to programming.\n",
        "\n",
        "Go to https://drive.google.com/drive/folders/1Pe6D713L9S0GWwb_XzeLXAeNZOrBqZaN?usp=sharing and click add shortcut to drive. This will add the data required for this problem set to your Google drive.\n",
        "\n",
        "<img src=\"https://drive.google.com/uc?id=1LqHisiziX8Ri94Xs6Cv8mhx6vivFM3kS\" alt=\"Drawing\" height=\"300\"/>\n",
        "\n",
        "Caution: Since this is real language on Twitter and deals with current events, some of it could be disturbing. In the later section of the course, we will deal with ethics and what is appropriate and what is not.\n",
        "\n"
      ]
    },
    {
      "cell_type": "markdown",
      "metadata": {
        "id": "UtZEcHthBeXz"
      },
      "source": [
        "Run the below code snippet. It will generate a URL which generates an authorization code.* Enter it below to give Colab access to your Google drive.\n",
        "\n",
        "*Copy function may not work. If so, manually copy the authorization code."
      ]
    },
    {
      "cell_type": "code",
      "metadata": {
        "colab": {
          "base_uri": "https://localhost:8080/"
        },
        "id": "KW-dce7oJlyr",
        "outputId": "5324441c-fa4b-46f4-b690-bdee3e8ba32f"
      },
      "source": [
        "from google.colab import drive\n",
        "drive.mount('/content/drive/')"
      ],
      "execution_count": null,
      "outputs": [
        {
          "output_type": "stream",
          "name": "stdout",
          "text": [
            "Mounted at /content/drive/\n"
          ]
        }
      ]
    },
    {
      "cell_type": "markdown",
      "metadata": {
        "id": "Ni2pYuuQKaHY"
      },
      "source": [
        "When you run the `ls` command below, you should see the files in the tweets folder.\n",
        "\n",
        "\n"
      ]
    },
    {
      "cell_type": "code",
      "metadata": {
        "colab": {
          "base_uri": "https://localhost:8080/"
        },
        "id": "zYENtyc7SOxA",
        "outputId": "dba736b5-9c09-44f1-a095-5bd9141ca1f5"
      },
      "source": [
        "!ls \"/content/drive/My Drive/COMP 596/tweets\""
      ],
      "execution_count": null,
      "outputs": [
        {
          "output_type": "stream",
          "name": "stdout",
          "text": [
            "20000_tweets.jsonl\n",
            "20000_tweets.txt\n",
            "covid-tweets-2020-08-10-2020-08-21.tokenized.txt\n",
            "covid-tweets-2020-08-10-2020-08-21.trigrams.txt\n",
            "GoogleNews-vectors-negative300.bin.gz\n",
            "stop_words.txt\n"
          ]
        }
      ]
    },
    {
      "cell_type": "code",
      "metadata": {
        "colab": {
          "base_uri": "https://localhost:8080/"
        },
        "id": "gZMOmElPSPHk",
        "outputId": "e7e20b4f-54cd-4d69-c0ae-f6c845be8eed"
      },
      "source": [
        "# let's read tweets. These tweets are already tokenized and cleaned (Assignment 1)\n",
        "tweets = open(\"/content/drive/My Drive/COMP 596/tweets/covid-tweets-2020-08-10-2020-08-21.tokenized.txt\", \"r\").read().split(\"\\n\")\n",
        "tweets = [tweet.split() for tweet in tweets]\n",
        "\n",
        "print(len(tweets))\n",
        "print(tweets[312868:312878])"
      ],
      "execution_count": null,
      "outputs": [
        {
          "output_type": "stream",
          "name": "stdout",
          "text": [
            "312878\n",
            "[['@USER', '@USER', 'covid-19', 'pass', 'it', 'around', 'share'], ['@USER', '@USER', '@USER', '@USER', 'if', 'the', 'coronavirus', 'vaccine', 'has', 'a', 'low', 'success', 'rate', 'and', 'is', 'only', 'developed', 'in', 'the', 'next', '2', 'years', 'this', 'means', '2', 'years', 'of', 'remote', 'education', 'would', 'be', 'required', 'the', 'decision', 'to', 'go', 'remote', 'should', 'be', 'based', 'on', 'risk', 'assessments', 'by', 'institutions', 'school', 'boards', 'have', 'been', 'downloaded', 'this', 'work'], ['anybody', 'URL'], ['i', 'still', 'blame', 'this', 'on', 'florida', '@USER', 'URL'], ['i', 'got', 'compliments', 'on', 'my', 'half', 'sleeve', 'today', 'while', 'getting', 'corona', 'tested', 'and', 'you', 'best', 'bet', 'i', 'put', 'my', 'tattoo', 'artists', 'plug', 'in', 'when', 'they', 'shoved', 'that', 'stick', 'up', 'my', 'nose', '@USER'], ['probably', 'my', 'best', 'pandemic', 'purchase', 'URL'], ['breaking', 'florida', 'has', 'become', 'the', '5th', 'state', 'in', 'the', 'us', 'to', 'surpass', '10,000', 'covid-19', 'deaths'], ['jee', 'amp', 'neet', 'should', 'be', 'postpone', '1', 'containment', 'zones', 'amp;lockdown', '2transport', 'issue', '3mental', 'stress', '4', 'flood', 'in', 'many', 'states', '5', 'soc', 'dis', 'of', '30', 'lakh+', 'students', 'amp', 'parents', 'not', 'poss', '6', '70', 'k', 'cases', 'amp;1', 'k', 'deaths', 'everyday', '7', 'postpone', 'till', 'nov', '#ripsubhasri_save30lakhs'], ['republicans', 'facts', 'over', 'feelings', 'literally', 'anyone', 'you', 'know', 'it', '’s', 'proven', 'mask', 'help', 'stop', 'the', 'spread', 'of', 'corona', 'rebublicans', 'fucking'], []]\n"
          ]
        }
      ]
    },
    {
      "cell_type": "markdown",
      "metadata": {
        "id": "JVkL6n6jU1LU"
      },
      "source": [
        "## Problem 1.1: Word space model\n",
        "\n",
        "Compute the most important context words of `ventilator`. Use Pointwise Mutual Information (PMI) to rank the context words (Refer to Lecture 4).\n",
        "\n",
        "We define context as up to 3 words to the left and 3 words to the right. Ignore stop words and words that do not start with [a-z#]. Also ignore words that are not in the top 1000 frequent words.\n",
        "\n",
        "These context words define the dimensions of the vector space model. Represent each word as a vector (dictionary/counter) of context words with PMI as the importance of the context word. Print the top 20 context words for each.\n",
        "\n",
        "This is the sample output I got for `ventilator`. Your numbers need not match mine but the ranked list should look close to what I have.\n",
        "\n",
        "```\n",
        "[('put', 18.280538283196606), ('wearing', 17.587373569812726), ('even', 17.58651933524197), ('like', 17.402738298715878), ('covid', 17.172590097063086), ('patients', 16.894419647496004), ('use', 16.894298589380956), ('die', 16.89426559608771), ('days', 16.89415252713107), ('needed', 16.489137134110106), ('month', 16.48907033839664), ('weeks', 16.488913820220848), ('away', 16.48879303327717), ('week', 16.488739054051933), ('person', 16.488678720881293), ('good', 16.488160838026904), ('deaths', 16.487822204799755), ('go', 16.487564042558112), ('would', 16.48707075078768), ('one', 16.48706217686235), ('get', 16.486565870239033)]\n",
        "```\n",
        "\n"
      ]
    },
    {
      "cell_type": "markdown",
      "metadata": {
        "id": "C0SbP-yfiaL3"
      },
      "source": [
        "Let's first load stop words."
      ]
    },
    {
      "cell_type": "code",
      "metadata": {
        "colab": {
          "base_uri": "https://localhost:8080/"
        },
        "id": "PFoeDtZPTy-g",
        "outputId": "1cf1894a-9bf5-40a5-e988-689e6067dd11"
      },
      "source": [
        "stop_words = set()\n",
        "def load_stop_words():\n",
        "  words = open(\"/content/drive/My Drive/COMP 596/tweets/stop_words.txt\", \"r\").read().split(\"\\n\")\n",
        "  for word in words:\n",
        "    stop_words.add(word.strip())\n",
        "\n",
        "load_stop_words()\n",
        "\n",
        "stop_words.add('n’t')\n",
        "print(len(stop_words))"
      ],
      "execution_count": null,
      "outputs": [
        {
          "output_type": "stream",
          "name": "stdout",
          "text": [
            "135\n"
          ]
        }
      ]
    },
    {
      "cell_type": "code",
      "metadata": {
        "id": "QzpDstWlj0e3"
      },
      "source": [
        "import string\n",
        "import math\n",
        "###### individual word frequencies ######\n",
        "dictionary_single_token = {}\n",
        "a_z_pond = string.ascii_lowercase + '#'\n",
        "for tweety in tweets:\n",
        "  for token in tweety:\n",
        "    if token not in stop_words and token[0] in a_z_pond:\n",
        "      if token not in dictionary_single_token:\n",
        "        dictionary_single_token[token] = 1\n",
        "      else:\n",
        "        dictionary_single_token[token] += 1\n",
        "\n",
        "Des_dict = sorted(dictionary_single_token, key=dictionary_single_token.get, reverse=True)\n",
        "top_1000_freq_words = {}\n",
        "for i in range(1000):\n",
        "  top_1000_freq_words[Des_dict[i]] = dictionary_single_token.get(Des_dict[i])\n",
        "\n",
        "######## ventilator context pairs\n",
        "word_context_pairs = {}\n",
        "for tweet in tweets:\n",
        "  if len(tweet) >= 7:\n",
        "    for i in range(3,len(tweet)-3):\n",
        "      if (tweet[i],tweet[i-1]) not in word_context_pairs and tweet[i-1] in top_1000_freq_words:\n",
        "        word_context_pairs[(tweet[i],tweet[i-1])] = 1\n",
        "      elif (tweet[i],tweet[i-1]) in word_context_pairs and tweet[i-1] in top_1000_freq_words:\n",
        "        word_context_pairs[(tweet[i],tweet[i-1])] += 1\n",
        "\n",
        "      if (tweet[i],tweet[i-2]) not in word_context_pairs and tweet[i-2] in top_1000_freq_words:\n",
        "        word_context_pairs[(tweet[i],tweet[i-2])] = 1\n",
        "      elif (tweet[i],tweet[i-2]) in word_context_pairs and tweet[i-2] in top_1000_freq_words:\n",
        "        word_context_pairs[(tweet[i],tweet[i-2])] += 1\n",
        "\n",
        "      if (tweet[i],tweet[i-3]) not in word_context_pairs and tweet[i-3] in top_1000_freq_words:\n",
        "        word_context_pairs[(tweet[i],tweet[i-3])] = 1\n",
        "      elif (tweet[i],tweet[i-3]) in word_context_pairs and tweet[i-3] in top_1000_freq_words:\n",
        "        word_context_pairs[(tweet[i],tweet[i-3])] += 1\n",
        "\n",
        "      if (tweet[i],tweet[i+1]) not in word_context_pairs and tweet[i+1] in top_1000_freq_words:\n",
        "        word_context_pairs[(tweet[i],tweet[i+1])] = 1\n",
        "      elif (tweet[i],tweet[i+1]) in word_context_pairs and tweet[i+1] in top_1000_freq_words:\n",
        "        word_context_pairs[(tweet[i],tweet[i+1])] += 1\n",
        "\n",
        "      if (tweet[i],tweet[i+2]) not in word_context_pairs and tweet[i+2] in top_1000_freq_words:\n",
        "        word_context_pairs[(tweet[i],tweet[i+2])] = 1\n",
        "      elif (tweet[i],tweet[i+2]) in word_context_pairs and tweet[i+2] in top_1000_freq_words:\n",
        "        word_context_pairs[(tweet[i],tweet[i+2])] += 1\n",
        "\n",
        "      if (tweet[i],tweet[i+3]) not in word_context_pairs and tweet[i+3] in top_1000_freq_words:\n",
        "        word_context_pairs[(tweet[i],tweet[i+3])] = 1\n",
        "      elif (tweet[i],tweet[i+3]) in word_context_pairs and tweet[i+3] in top_1000_freq_words:\n",
        "        word_context_pairs[(tweet[i],tweet[i+3])] += 1\n",
        "\n",
        "  ############ corner case first 3 #####################\n",
        "    i = 0\n",
        "    if (tweet[i],tweet[i+1]) not in word_context_pairs and tweet[i+1] in top_1000_freq_words:\n",
        "      word_context_pairs[(tweet[i],tweet[i+1])] = 1\n",
        "    elif (tweet[i],tweet[i+1]) in word_context_pairs and tweet[i+1] in top_1000_freq_words:\n",
        "      word_context_pairs[(tweet[i],tweet[i+1])] += 1\n",
        "\n",
        "    if (tweet[i],tweet[i+2]) not in word_context_pairs and tweet[i+2] in top_1000_freq_words:\n",
        "      word_context_pairs[(tweet[i],tweet[i+2])] = 1\n",
        "    elif (tweet[i],tweet[i+2]) in word_context_pairs and tweet[i+2] in top_1000_freq_words:\n",
        "      word_context_pairs[(tweet[i],tweet[i+2])] += 1\n",
        "\n",
        "    if (tweet[i],tweet[i+3]) not in word_context_pairs and tweet[i+3] in top_1000_freq_words:\n",
        "      word_context_pairs[(tweet[i],tweet[i+3])] = 1\n",
        "    elif (tweet[i],tweet[i+3]) in word_context_pairs and tweet[i+3] in top_1000_freq_words:\n",
        "      word_context_pairs[(tweet[i],tweet[i+3])] += 1\n",
        "\n",
        "    i = 1\n",
        "    if (tweet[i],tweet[i-1]) not in word_context_pairs and tweet[i-1] in top_1000_freq_words:\n",
        "      word_context_pairs[(tweet[i],tweet[i-1])] = 1\n",
        "    elif (tweet[i],tweet[i-1]) in word_context_pairs and tweet[i-1] in top_1000_freq_words:\n",
        "      word_context_pairs[(tweet[i],tweet[i-1])] += 1\n",
        "\n",
        "    if (tweet[i],tweet[i+1]) not in word_context_pairs and tweet[i+1] in top_1000_freq_words:\n",
        "      word_context_pairs[(tweet[i],tweet[i+1])] = 1\n",
        "    elif (tweet[i],tweet[i+1]) in word_context_pairs and tweet[i+1] in top_1000_freq_words:\n",
        "      word_context_pairs[(tweet[i],tweet[i+1])] += 1\n",
        "\n",
        "    if (tweet[i],tweet[i+2]) not in word_context_pairs and tweet[i+2] in top_1000_freq_words:\n",
        "      word_context_pairs[(tweet[i],tweet[i+2])] = 1\n",
        "    elif (tweet[i],tweet[i+2]) in word_context_pairs and tweet[i+2] in top_1000_freq_words:\n",
        "      word_context_pairs[(tweet[i],tweet[i+2])] += 1\n",
        "\n",
        "    if (tweet[i],tweet[i+3]) not in word_context_pairs and tweet[i+3] in top_1000_freq_words:\n",
        "      word_context_pairs[(tweet[i],tweet[i+3])] = 1\n",
        "    elif (tweet[i],tweet[i+3]) in word_context_pairs and tweet[i+3] in top_1000_freq_words:\n",
        "      word_context_pairs[(tweet[i],tweet[i+3])] += 1\n",
        "\n",
        "    i = 2\n",
        "    if (tweet[i],tweet[i-1]) not in word_context_pairs and tweet[i-1] in top_1000_freq_words:\n",
        "      word_context_pairs[(tweet[i],tweet[i-1])] = 1\n",
        "    elif (tweet[i],tweet[i-1]) in word_context_pairs and tweet[i-1] in top_1000_freq_words:\n",
        "      word_context_pairs[(tweet[i],tweet[i-1])] += 1\n",
        "\n",
        "    if (tweet[i],tweet[i-2]) not in word_context_pairs and tweet[i-2] in top_1000_freq_words:\n",
        "      word_context_pairs[(tweet[i],tweet[i-2])] = 1\n",
        "    elif (tweet[i],tweet[i-2]) in word_context_pairs and tweet[i-2] in top_1000_freq_words:\n",
        "      word_context_pairs[(tweet[i],tweet[i-2])] += 1\n",
        "\n",
        "    if (tweet[i],tweet[i+1]) not in word_context_pairs and tweet[i+1] in top_1000_freq_words:\n",
        "      word_context_pairs[(tweet[i],tweet[i+1])] = 1\n",
        "    elif (tweet[i],tweet[i+1]) in word_context_pairs and tweet[i+1] in top_1000_freq_words:\n",
        "      word_context_pairs[(tweet[i],tweet[i+1])] += 1\n",
        "\n",
        "    if (tweet[i],tweet[i+2]) not in word_context_pairs and tweet[i+2] in top_1000_freq_words:\n",
        "      word_context_pairs[(tweet[i],tweet[i+2])] = 1\n",
        "    elif (tweet[i],tweet[i+2]) in word_context_pairs and tweet[i+2] in top_1000_freq_words:\n",
        "      word_context_pairs[(tweet[i],tweet[i+2])] += 1\n",
        "\n",
        "    if (tweet[i],tweet[i+3]) not in word_context_pairs and tweet[i+3] in top_1000_freq_words:\n",
        "      word_context_pairs[(tweet[i],tweet[i+3])] = 1\n",
        "    elif (tweet[i],tweet[i+3]) in word_context_pairs and tweet[i+3] in top_1000_freq_words:\n",
        "      word_context_pairs[(tweet[i],tweet[i+3])] += 1\n",
        "\n",
        "  ############ corner case last 3 #####################\n",
        "    i = len(tweet)-3\n",
        "    if (tweet[i],tweet[i-1]) not in word_context_pairs and tweet[i-1] in top_1000_freq_words:\n",
        "      word_context_pairs[(tweet[i],tweet[i-1])] = 1\n",
        "    elif (tweet[i],tweet[i-1]) in word_context_pairs and tweet[i-1] in top_1000_freq_words:\n",
        "      word_context_pairs[(tweet[i],tweet[i-1])] += 1\n",
        "\n",
        "    if (tweet[i],tweet[i-2]) not in word_context_pairs and tweet[i-2] in top_1000_freq_words:\n",
        "      word_context_pairs[(tweet[i],tweet[i-2])] = 1\n",
        "    elif (tweet[i],tweet[i-2]) in word_context_pairs and tweet[i-2] in top_1000_freq_words:\n",
        "      word_context_pairs[(tweet[i],tweet[i-2])] += 1\n",
        "\n",
        "    if (tweet[i],tweet[i-3]) not in word_context_pairs and tweet[i-3] in top_1000_freq_words:\n",
        "      word_context_pairs[(tweet[i],tweet[i-3])] = 1\n",
        "    elif (tweet[i],tweet[i-3]) in word_context_pairs and tweet[i-3] in top_1000_freq_words:\n",
        "      word_context_pairs[(tweet[i],tweet[i-3])] += 1\n",
        "\n",
        "    if (tweet[i],tweet[i+1]) not in word_context_pairs and tweet[i+1] in top_1000_freq_words:\n",
        "      word_context_pairs[(tweet[i],tweet[i+1])] = 1\n",
        "    elif (tweet[i],tweet[i+1]) in word_context_pairs and tweet[i+1] in top_1000_freq_words:\n",
        "      word_context_pairs[(tweet[i],tweet[i+1])] += 1\n",
        "\n",
        "    if (tweet[i],tweet[i+2]) not in word_context_pairs and tweet[i+2] in top_1000_freq_words:\n",
        "      word_context_pairs[(tweet[i],tweet[i+2])] = 1\n",
        "    elif (tweet[i],tweet[i+2]) in word_context_pairs and tweet[i+2] in top_1000_freq_words:\n",
        "      word_context_pairs[(tweet[i],tweet[i+2])] += 1\n",
        "\n",
        "    i = len(tweet)-2\n",
        "    if (tweet[i],tweet[i-1]) not in word_context_pairs and tweet[i-1] in top_1000_freq_words:\n",
        "      word_context_pairs[(tweet[i],tweet[i-1])] = 1\n",
        "    elif (tweet[i],tweet[i-1]) in word_context_pairs and tweet[i-1] in top_1000_freq_words:\n",
        "      word_context_pairs[(tweet[i],tweet[i-1])] += 1\n",
        "\n",
        "    if (tweet[i],tweet[i-2]) not in word_context_pairs and tweet[i-2] in top_1000_freq_words:\n",
        "      word_context_pairs[(tweet[i],tweet[i-2])] = 1\n",
        "    elif (tweet[i],tweet[i-2]) in word_context_pairs and tweet[i-2] in top_1000_freq_words:\n",
        "      word_context_pairs[(tweet[i],tweet[i-2])] += 1\n",
        "\n",
        "    if (tweet[i],tweet[i-3]) not in word_context_pairs and tweet[i-3] in top_1000_freq_words:\n",
        "      word_context_pairs[(tweet[i],tweet[i-3])] = 1\n",
        "    elif (tweet[i],tweet[i-3]) in word_context_pairs and tweet[i-3] in top_1000_freq_words:\n",
        "      word_context_pairs[(tweet[i],tweet[i-3])] += 1\n",
        "\n",
        "    if (tweet[i],tweet[i+1]) not in word_context_pairs and tweet[i+1] in top_1000_freq_words:\n",
        "      word_context_pairs[(tweet[i],tweet[i+1])] = 1\n",
        "    elif (tweet[i],tweet[i+1]) in word_context_pairs and tweet[i+1] in top_1000_freq_words:\n",
        "      word_context_pairs[(tweet[i],tweet[i+1])] += 1\n",
        "\n",
        "    i = len(tweet)-1\n",
        "    if (tweet[i],tweet[i-1]) not in word_context_pairs and tweet[i-1] in top_1000_freq_words:\n",
        "      word_context_pairs[(tweet[i],tweet[i-1])] = 1\n",
        "    elif (tweet[i],tweet[i-1]) in word_context_pairs and tweet[i-1] in top_1000_freq_words:\n",
        "      word_context_pairs[(tweet[i],tweet[i-1])] += 1\n",
        "\n",
        "    if (tweet[i],tweet[i-2]) not in word_context_pairs and tweet[i-2] in top_1000_freq_words:\n",
        "      word_context_pairs[(tweet[i],tweet[i-2])] = 1\n",
        "    elif (tweet[i],tweet[i-2]) in word_context_pairs and tweet[i-2] in top_1000_freq_words:\n",
        "      word_context_pairs[(tweet[i],tweet[i-2])] += 1\n",
        "\n",
        "    if (tweet[i],tweet[i-3]) not in word_context_pairs and tweet[i-3] in top_1000_freq_words:\n",
        "      word_context_pairs[(tweet[i],tweet[i-3])] = 1\n",
        "    elif (tweet[i],tweet[i-3]) in word_context_pairs and tweet[i-3] in top_1000_freq_words:\n",
        "      word_context_pairs[(tweet[i],tweet[i-3])] += 1\n",
        "  # elif len(tweet) == 6:\n",
        "  #   for i in range(6):\n",
        "  #     ##### to the left #####\n",
        "  #     for j in range(0, i):\n",
        "  #       if (tweet[i],tweet[j]) not in word_context_pairs and tweet[j] in top_1000_freq_words:\n",
        "  #         word_context_pairs[(tweet[i],tweet[j])] = 1\n",
        "  #       elif (tweet[i],tweet[j]) in word_context_pairs and tweet[j] in top_1000_freq_words:\n",
        "  #         word_context_pairs[(tweet[i],tweet[j])] += 1\n",
        "  #     for k in range(i+1, 6):\n",
        "  #       if (tweet[i],tweet[k]) not in word_context_pairs and tweet[k] in top_1000_freq_words:\n",
        "  #         word_context_pairs[(tweet[i],tweet[k])] = 1\n",
        "  #       elif (tweet[i],tweet[k]) in word_context_pairs and tweet[k] in top_1000_freq_words:\n",
        "  #         word_context_pairs[(tweet[i],tweet[k])] += 1"
      ],
      "execution_count": null,
      "outputs": []
    },
    {
      "cell_type": "code",
      "metadata": {
        "colab": {
          "base_uri": "https://localhost:8080/"
        },
        "id": "xbfILxzRt893",
        "outputId": "7cf60a93-de5f-4405-e280-9a422cc58128"
      },
      "source": [
        "print(word_context_pairs[('ventilator', 'weeks')])\n",
        "print(dictionary_single_token['ventilator'])\n",
        "# print(top_1000_freq_words[])"
      ],
      "execution_count": null,
      "outputs": [
        {
          "output_type": "stream",
          "name": "stdout",
          "text": [
            "4\n",
            "155\n"
          ]
        }
      ]
    },
    {
      "cell_type": "code",
      "metadata": {
        "colab": {
          "base_uri": "https://localhost:8080/"
        },
        "id": "fABUs9xYxejJ",
        "outputId": "fe861dad-779b-4ec1-cb77-f395766837d7"
      },
      "source": [
        "lenl6 = 0\n",
        "for tweet in tweets:\n",
        "  if 'pandemic' in tweet and 'ventilator' in tweet:\n",
        "    lenl6 += 1\n",
        "print(lenl6)"
      ],
      "execution_count": null,
      "outputs": [
        {
          "output_type": "stream",
          "name": "stdout",
          "text": [
            "10\n"
          ]
        }
      ]
    },
    {
      "cell_type": "markdown",
      "metadata": {
        "id": "fJF6PXSHQBiR"
      },
      "source": [
        "Let's build the word vectors"
      ]
    },
    {
      "cell_type": "code",
      "metadata": {
        "colab": {
          "base_uri": "https://localhost:8080/"
        },
        "id": "XQ896-ClQBKM",
        "outputId": "31b728b9-e60f-440d-e72f-eb71d03531b6"
      },
      "source": [
        "def PMI(word1, word2):\n",
        "  # You have to store frequencies of individual words and (word, context word)\n",
        "  # pairs to compute this. You can compute them beforehand in order to avoid\n",
        "  # counting every time when this function is called.\n",
        "  # Write your code\n",
        "  if (word1, word2) not in word_context_pairs:\n",
        "    return 0\n",
        "  else:\n",
        "    return math.log(word_context_pairs[(word1, word2)]*len(tweets)/(dictionary_single_token[word1]*top_1000_freq_words[word2]))*10\n",
        "    # return math.log(word_context_pairs[(word1, word2)]*len(dictionary_single_token.keys())/(dictionary_single_token[word1]*top_1000_freq_words[word2]))\n",
        "\n",
        "def build_word_vector(word):\n",
        "  # Write your code\n",
        "  vector = []\n",
        "  for context_word in iter(top_1000_freq_words.keys()):\n",
        "    vector.append((context_word, PMI(word, context_word)))\n",
        "  return sorted(vector,key=lambda vector: vector[1], reverse=True)\n",
        "\n",
        "def print_top_dimensions(word_vector, n):\n",
        "  # print top n dimensions sorted in the order of importance.\n",
        "  print(word_vector[:n])\n",
        "\n",
        "v1 = build_word_vector('ventilator')\n",
        "print_top_dimensions(v1, 20) # print top 20 dimensions along with their weights"
      ],
      "execution_count": null,
      "outputs": [
        {
          "output_type": "stream",
          "name": "stdout",
          "text": [
            "[('put', 18.08528776369431), ('patient', 17.536399385888018), ('tried', 17.088772210728337), ('wearing', 10.838926919438507), ('needed', 10.778092080403175), ('spent', 10.662316546978747), ('enjoy', 10.29504362977718), ('weeks', 9.927405222881896), ('avoid', 9.80780246825218), ('governors', 9.781417228670367), ('days', 9.611589502378909), ('orders', 9.242825531943076), ('minister', 9.217887863159051), ('brain', 9.094123907148564), ('suffering', 8.94760113927986), ('word', 8.578731241209248), ('except', 8.485707314586111), ('totally', 8.40501523410164), ('patients', 8.088604657910466), ('among', 7.890360280062021)]\n"
          ]
        }
      ]
    },
    {
      "cell_type": "markdown",
      "metadata": {
        "id": "SLZlAXuUVQXj"
      },
      "source": [
        "## Problem 1.2: Compute the word similarity between words using Cosine Similarity.\n",
        "\n",
        "Compute cosine similarity between the following pair of words:\n",
        "```\n",
        "('ventilator', 'covid-19')\n",
        "('ventilator', 'lockdown')\n",
        "('ventilator', 'mask')\n",
        "('ventilator', 'ppe')\n",
        "```\n",
        "\n",
        "Outputs of my code are:\n",
        "```\n",
        "('ventilator', 'covid-19') 0.17076006036635358\n",
        "('ventilator', 'lockdown') ...\n",
        "('ventilator', 'mask') 0.19229601085517933\n",
        "('ventilator', 'ppe') ...\n",
        "```\n"
      ]
    },
    {
      "cell_type": "code",
      "metadata": {
        "colab": {
          "base_uri": "https://localhost:8080/"
        },
        "id": "v4x3CVEnsctn",
        "outputId": "01164edf-b3be-4bab-f7ab-41958558c89b"
      },
      "source": [
        "def cosine_similarity(vector1, vector2):\n",
        "  # write your code\n",
        "  sum_xy = 0\n",
        "  sum_x2 = 0\n",
        "  sum_y2 = 0\n",
        "\n",
        "  for i in range(len(vector1)):\n",
        "    sum_xy += vector1[i][1]*vector2[i][1]\n",
        "    sum_x2 += vector1[i][1]**2\n",
        "    sum_y2 += vector2[i][1]**2\n",
        "  return sum_xy/(math.sqrt(sum_x2)*math.sqrt(sum_y2))\n",
        "\n",
        "ventilator = build_word_vector('ventilator')\n",
        "covid19 = build_word_vector('covid-19')\n",
        "lockdown = build_word_vector('lockdown')\n",
        "mask = build_word_vector('mask')\n",
        "ppe = build_word_vector('ppe')\n",
        "\n",
        "print(('ventilator', 'covid-19'), cosine_similarity(ventilator, covid19))\n",
        "print(('ventilator', 'lockdown'), cosine_similarity(ventilator, lockdown))\n",
        "print(('ventilator', 'mask'), cosine_similarity(ventilator, mask))\n",
        "print(('ventilator', 'ppe'), cosine_similarity(ventilator, ppe))"
      ],
      "execution_count": null,
      "outputs": [
        {
          "output_type": "stream",
          "name": "stdout",
          "text": [
            "('ventilator', 'covid-19') 0.3381079584127648\n",
            "('ventilator', 'lockdown') 0.32338745767215515\n",
            "('ventilator', 'mask') 0.3237044389776504\n",
            "('ventilator', 'ppe') 0.665661601299983\n"
          ]
        }
      ]
    },
    {
      "cell_type": "markdown",
      "metadata": {
        "id": "yDJHApLrmLnw"
      },
      "source": [
        "## Problem 1.3: What can you tell about these words from the similarities?\n",
        "\n",
        "1. `ventilator` when compared with `covid-19, lockdown, mask, ppe`,  ventilator is more similar to ppe, but not so similar to the other three.\n",
        "2. `pandemic` when compared with `covid-19, lockdown, mask, ppe`, pandemic is not very similar to ppe, but are very similar to the other three.\n",
        "3. `president` compared with `trump, biden`, president is similar to both trump and biden.\n",
        "4. `trudeau` compared with `trump, biden`, trudeau is not similar to trump or biden.\n",
        "\n"
      ]
    },
    {
      "cell_type": "code",
      "metadata": {
        "colab": {
          "base_uri": "https://localhost:8080/"
        },
        "id": "mBAGiHA_3YDN",
        "outputId": "d0667b33-7699-4da1-b0b2-38c8f9ca6447"
      },
      "source": [
        "pandemic = build_word_vector('pandemic')\n",
        "president = build_word_vector('president')\n",
        "trump = build_word_vector('trump')\n",
        "biden = build_word_vector('biden')\n",
        "trudeau = build_word_vector('trudeau')\n",
        "\n",
        "print(('pandemic', 'covid-19'), cosine_similarity(pandemic, covid19))\n",
        "print(('pandemic', 'lockdown'), cosine_similarity(pandemic, lockdown))\n",
        "print(('pandemic', 'mask'), cosine_similarity(pandemic, mask))\n",
        "print(('pandemic', 'ppe'), cosine_similarity(pandemic, ppe))\n",
        "\n",
        "print(('president', 'trump'), cosine_similarity(president, trump))\n",
        "print(('president', 'biden'), cosine_similarity(president, biden))\n",
        "print(('trudeau', 'trump'), cosine_similarity(trudeau, trump))\n",
        "print(('trudeau', 'biden'), cosine_similarity(trudeau, biden))"
      ],
      "execution_count": null,
      "outputs": [
        {
          "output_type": "stream",
          "name": "stdout",
          "text": [
            "('pandemic', 'covid-19') 0.992286870602103\n",
            "('pandemic', 'lockdown') 0.9908631451969823\n",
            "('pandemic', 'mask') 0.9920898357410891\n",
            "('pandemic', 'ppe') 0.6747698249027229\n",
            "('president', 'trump') 0.9776325450304912\n",
            "('president', 'biden') 0.9948909501209592\n",
            "('trudeau', 'trump') 0.5254691555837846\n",
            "('trudeau', 'biden') 0.5717781624637127\n"
          ]
        }
      ]
    },
    {
      "cell_type": "markdown",
      "metadata": {
        "id": "2Q-FpH2k7akG"
      },
      "source": [
        "# Let's play with word2vec\n",
        "\n",
        "First let's load word2vec. I am using [gensim](https://radimrehurek.com/gensim/auto_examples/tutorials/run_word2vec.html) but feel free to use any libraries or tools."
      ]
    },
    {
      "cell_type": "code",
      "metadata": {
        "id": "11Jcaf1T9mHU"
      },
      "source": [
        "from gensim.models import KeyedVectors\n",
        "\n",
        "EMBEDDING_FILE = '/content/drive/My Drive/COMP 596/tweets/GoogleNews-vectors-negative300.bin.gz' # from above\n",
        "word2vec = KeyedVectors.load_word2vec_format(EMBEDDING_FILE, binary=True)"
      ],
      "execution_count": null,
      "outputs": []
    },
    {
      "cell_type": "markdown",
      "metadata": {
        "id": "FXHjFq6upAUA"
      },
      "source": [
        "## Problem 1.4: Compute the top 5 similar words of `ventilator` using word2vec?"
      ]
    },
    {
      "cell_type": "code",
      "metadata": {
        "id": "Xvff7yDBFUMg"
      },
      "source": [
        "# Write your code here\n",
        "sims = word2vec.most_similar(['ventilator'],topn=5)"
      ],
      "execution_count": null,
      "outputs": []
    },
    {
      "cell_type": "code",
      "metadata": {
        "colab": {
          "base_uri": "https://localhost:8080/"
        },
        "id": "_Pz3GFYv-38A",
        "outputId": "2fda282b-e012-470f-97a1-d55d97c75d1e"
      },
      "source": [
        "print(sims)"
      ],
      "execution_count": null,
      "outputs": [
        {
          "output_type": "stream",
          "name": "stdout",
          "text": [
            "[('respirator', 0.7864563465118408), ('mechanical_ventilator', 0.7063840627670288), ('intensive_care', 0.6809945702552795), ('ventilators', 0.6683582067489624), ('breathing_tube', 0.6665509343147278)]\n"
          ]
        }
      ]
    },
    {
      "cell_type": "markdown",
      "metadata": {
        "id": "ufUX14RV2bCY"
      },
      "source": [
        "# Problem 1.5: Word analogy\n",
        "\n",
        "If I told you the plural of `car` is `cars`, can you automatically find the plural of `hyothesis` and `man` using word2vec.\n",
        "\n",
        "Similarly, if I told you a newborn `dog` is called `puppy`, can you automatically find what are the newborn words of `cat` and `sheep` using word2vec?\n"
      ]
    },
    {
      "cell_type": "code",
      "metadata": {
        "colab": {
          "base_uri": "https://localhost:8080/"
        },
        "id": "yCSJiYLnW1yU",
        "outputId": "ec92e4b3-9483-42ba-b63d-f27b55d975f8"
      },
      "source": [
        "# Write your code here\n",
        "hypothesises = word2vec.most_similar(positive=['cars','hypothesis'],negative=['car'],topn=1)\n",
        "men = word2vec.most_similar(positive=['cars','man'],negative=['car'],topn=1)\n",
        "kitty = word2vec.most_similar(positive=['puppy','cat'],negative=['dog'],topn=1)\n",
        "lamb = word2vec.most_similar(positive=['puppy','sheep'],negative=['dog'],topn=1)\n",
        "\n",
        "print(hypothesises)\n",
        "print(men)\n",
        "print(kitty)\n",
        "print(lamb)"
      ],
      "execution_count": null,
      "outputs": [
        {
          "output_type": "stream",
          "name": "stdout",
          "text": [
            "[('hypotheses', 0.6453900337219238)]\n",
            "[('men', 0.5470781326293945)]\n",
            "[('kitten', 0.7634989619255066)]\n",
            "[('lambs', 0.7109252214431763)]\n"
          ]
        }
      ]
    },
    {
      "cell_type": "markdown",
      "metadata": {
        "id": "oXX-DQe2oTcH"
      },
      "source": [
        "# 2. Topic Models\n",
        "\n",
        "The goal of this part is to make you familiar with topic models. You may reuse some of functions you coded for the previous assignments.\n",
        "\n",
        "## Data Download and Setup\n",
        "\n",
        "Let us start by downloading the news section of the Brown corpus:"
      ]
    },
    {
      "cell_type": "code",
      "metadata": {
        "colab": {
          "base_uri": "https://localhost:8080/"
        },
        "id": "zrStv7GPOixj",
        "outputId": "ee7286d7-3b2c-4380-efc2-f213a4c479c3"
      },
      "source": [
        "import nltk\n",
        "nltk.download('brown')\n",
        "from nltk.corpus import brown\n",
        "documents = [brown.words(fileid) for fileid in brown.fileids()]"
      ],
      "execution_count": null,
      "outputs": [
        {
          "output_type": "stream",
          "name": "stdout",
          "text": [
            "[nltk_data] Downloading package brown to /root/nltk_data...\n",
            "[nltk_data]   Unzipping corpora/brown.zip.\n"
          ]
        }
      ]
    },
    {
      "cell_type": "markdown",
      "metadata": {
        "id": "7m5pYgzSqJIq"
      },
      "source": [
        "Let us inspect some of the documents:"
      ]
    },
    {
      "cell_type": "code",
      "metadata": {
        "colab": {
          "base_uri": "https://localhost:8080/"
        },
        "id": "bCvgANNlUOjs",
        "outputId": "85b34549-29f8-4d7e-ca86-229126bd5688"
      },
      "source": [
        "print(\"The news section of the Brown corpus contains {} documents.\".format(len(documents)))\n",
        "for i in range(3):\n",
        "  document = documents[i]\n",
        "  print(\"Document {} has {} words: {}\".format(i, len(document), document))"
      ],
      "execution_count": null,
      "outputs": [
        {
          "output_type": "stream",
          "name": "stdout",
          "text": [
            "The news section of the Brown corpus contains 500 documents.\n",
            "Document 0 has 2242 words: ['The', 'Fulton', 'County', 'Grand', 'Jury', 'said', ...]\n",
            "Document 1 has 2277 words: ['Austin', ',', 'Texas', '--', 'Committee', 'approval', ...]\n",
            "Document 2 has 2275 words: ['Several', 'defendants', 'in', 'the', 'Summerdale', ...]\n"
          ]
        }
      ]
    },
    {
      "cell_type": "markdown",
      "metadata": {
        "id": "Hfx34Lg4Vi9l"
      },
      "source": [
        "Finally, let us download a list of stopwords for later."
      ]
    },
    {
      "cell_type": "code",
      "metadata": {
        "colab": {
          "base_uri": "https://localhost:8080/"
        },
        "id": "jlizEa3mVnWR",
        "outputId": "d62a6df9-d775-44a5-fa8c-394cc67258d3"
      },
      "source": [
        "nltk.download('stopwords')\n",
        "from nltk.corpus import stopwords\n",
        "stopwords_list = stopwords.words('english')\n",
        "print(stopwords_list)"
      ],
      "execution_count": null,
      "outputs": [
        {
          "output_type": "stream",
          "name": "stdout",
          "text": [
            "[nltk_data] Downloading package stopwords to /root/nltk_data...\n",
            "[nltk_data]   Unzipping corpora/stopwords.zip.\n",
            "['i', 'me', 'my', 'myself', 'we', 'our', 'ours', 'ourselves', 'you', \"you're\", \"you've\", \"you'll\", \"you'd\", 'your', 'yours', 'yourself', 'yourselves', 'he', 'him', 'his', 'himself', 'she', \"she's\", 'her', 'hers', 'herself', 'it', \"it's\", 'its', 'itself', 'they', 'them', 'their', 'theirs', 'themselves', 'what', 'which', 'who', 'whom', 'this', 'that', \"that'll\", 'these', 'those', 'am', 'is', 'are', 'was', 'were', 'be', 'been', 'being', 'have', 'has', 'had', 'having', 'do', 'does', 'did', 'doing', 'a', 'an', 'the', 'and', 'but', 'if', 'or', 'because', 'as', 'until', 'while', 'of', 'at', 'by', 'for', 'with', 'about', 'against', 'between', 'into', 'through', 'during', 'before', 'after', 'above', 'below', 'to', 'from', 'up', 'down', 'in', 'out', 'on', 'off', 'over', 'under', 'again', 'further', 'then', 'once', 'here', 'there', 'when', 'where', 'why', 'how', 'all', 'any', 'both', 'each', 'few', 'more', 'most', 'other', 'some', 'such', 'no', 'nor', 'not', 'only', 'own', 'same', 'so', 'than', 'too', 'very', 's', 't', 'can', 'will', 'just', 'don', \"don't\", 'should', \"should've\", 'now', 'd', 'll', 'm', 'o', 're', 've', 'y', 'ain', 'aren', \"aren't\", 'couldn', \"couldn't\", 'didn', \"didn't\", 'doesn', \"doesn't\", 'hadn', \"hadn't\", 'hasn', \"hasn't\", 'haven', \"haven't\", 'isn', \"isn't\", 'ma', 'mightn', \"mightn't\", 'mustn', \"mustn't\", 'needn', \"needn't\", 'shan', \"shan't\", 'shouldn', \"shouldn't\", 'wasn', \"wasn't\", 'weren', \"weren't\", 'won', \"won't\", 'wouldn', \"wouldn't\"]\n"
          ]
        }
      ]
    },
    {
      "cell_type": "markdown",
      "metadata": {
        "id": "fk-pkKhvWTMA"
      },
      "source": [
        "## Problem 2.1: Document-Term Matrix\n",
        "\n",
        "Create a document-term matrix with tf-idf. You should preprocess documents by: 1) lowercasing words, 2) excluding stopwords, and 3) including alphanumeric strings only.\n",
        "\n",
        "```python\n",
        "import numpy as np\n",
        "def create_tfidf_matrix(documents: List[List[str]]) -> (np.array, List[str]):\n",
        "  # Args:\n",
        "  #   documents: list of documents, each document being a list of words.\n",
        "  # Outputs:\n",
        "  #   tfidf_matrix: np.array of shape (num_documents, vocabulary_size)\n",
        "  #   vocabulary: a list of terms corresponding to the columns of the matrix.\n",
        "\n",
        "tfidf_matrix, vocabulary = create_tfidf_matrix(documents)\n",
        "```\n",
        "\n",
        "How sparse is this matrix? Calculate the ratio between cells with value 0 and the total number of cells.\n"
      ]
    },
    {
      "cell_type": "code",
      "metadata": {
        "id": "LK0DsBGOITEN"
      },
      "source": [
        "import numpy as np\n",
        "import re\n",
        "import string\n",
        "import math\n",
        "\n",
        "######## preprocessing docs to include only lowercase, nonstop, alphanumeric words, and get the vocabulary so that np.array only have to append #######\n",
        "alphanumeric = \"^[a-z0-9]+$\"\n",
        "p = re.compile(alphanumeric)\n",
        "docs = []\n",
        "vocab = {}\n",
        "term_in_doc = {}\n",
        "for document in documents:\n",
        "  doc=[]\n",
        "  dictionary_single_token = {}\n",
        "  for word in document:\n",
        "    word=word.lower()\n",
        "    if word not in stopwords_list and re.search(p, word):\n",
        "      doc.append(word)\n",
        "      ####### get vocabulary #########\n",
        "      if word not in vocab:\n",
        "        vocab[word] = 1\n",
        "      ####### get each word frequency in a document and count the number of documents the word appears in ######\n",
        "      if word not in dictionary_single_token and word not in term_in_doc:## first time in termindoc and first time in this doc\n",
        "        dictionary_single_token[word] = 1\n",
        "        term_in_doc[word] = 1\n",
        "      elif word in term_in_doc and word not in dictionary_single_token: ## already in termindoc and first time in this doc:\n",
        "        dictionary_single_token[word] = 1\n",
        "        term_in_doc[word] += 1\n",
        "\n",
        "  docs.append(doc)\n",
        "\n",
        "####### docs is a compressed version of documents #########\n",
        "\n",
        "\n",
        "def create_tfidf_matrix(documents):\n",
        "  vocab_list = list(vocab.keys())\n",
        "  matrix=np.array #### something\n",
        "  matrix = np.empty((len(documents),len(vocab.keys())))\n",
        "  # term_in_doc = {}\n",
        "  for i in range(len(documents)):\n",
        "    ###### for each document we get a dictionary containing all words in it, and compute the tf-idf on each word in that document #####\n",
        "    dictionary_single_token = {}\n",
        "    for word in documents[i]:\n",
        "      if word not in dictionary_single_token:  #### note that we take tf to be just the word frequency itself, the word's tf-idf is just the sum of all occurance of that word in the document times idf ######\n",
        "        dictionary_single_token[word] = (1/len(documents[i])) * math.log(500/term_in_doc[word])\n",
        "      else:\n",
        "        dictionary_single_token[word] += (1/len(documents[i])) * math.log(500/term_in_doc[word])\n",
        "\n",
        "    for j in range(len(vocab.keys())):\n",
        "      if vocab_list[j] in dictionary_single_token.keys():\n",
        "        matrix[i][j] = dictionary_single_token[vocab_list[j]]\n",
        "      else:\n",
        "        matrix[i][j] = 0\n",
        "\n",
        "    # matrix.append(init)\n",
        "\n",
        "  return matrix, vocab_list\n",
        "\n",
        "\n",
        "\n",
        "# tfidf_matrix, vocabulary = create_tfidf_matrix(documents)\n",
        "tfidf_matrix, vocabulary = create_tfidf_matrix(docs)"
      ],
      "execution_count": null,
      "outputs": []
    },
    {
      "cell_type": "code",
      "metadata": {
        "colab": {
          "base_uri": "https://localhost:8080/"
        },
        "id": "CPP5ZE3q2fIE",
        "outputId": "a908d3d8-34d1-44f8-86cc-958df9da15ae"
      },
      "source": [
        "n_zeros = np.count_nonzero(tfidf_matrix==0)\n",
        "ratio = n_zeros/(tfidf_matrix.shape[0]*tfidf_matrix.shape[1])\n",
        "print(ratio)"
      ],
      "execution_count": null,
      "outputs": [
        {
          "output_type": "stream",
          "name": "stdout",
          "text": [
            "0.9845266994447298\n"
          ]
        }
      ]
    },
    {
      "cell_type": "markdown",
      "metadata": {
        "id": "gilMYo2eWTWD"
      },
      "source": [
        "## Problem 2.2: Latent Semantic Analysis\n",
        "\n",
        "We perform LSA to obtain document embeddings `U` and term embeddings `VT`.\n",
        "\n",
        "```python\n",
        "from sklearn.utils.extmath import randomized_svd\n",
        "\n",
        "U, Sigma, VT = randomized_svd(tfidf_matrix,\n",
        "                              n_components=10,\n",
        "                              n_iter=100,\n",
        "                              random_state=42)\n",
        "```\n",
        "\n",
        "Define a function to find the 5 most relevant terms for each of the 10 latent dimensions (tip: you should make use of VT and the vocabulary).\n",
        "\n",
        "```python\n",
        "def extract_salient_words(VT: np.array,\n",
        "                  vocabulary: List[str]\n",
        "                  ) -> salient_words: dict[int, List[str]]:\n",
        "  # Args:\n",
        "  #  VT: a numpy array of size (n_components, vocabulary_size)\n",
        "  #  vocabulary: a list of words of size vocabulary_size\n",
        "  # Outputs:\n",
        "  #  salient_words: a dictionary with the latent dimension indices as keys and a list of its 5 most salient words as values\n",
        "\n",
        "salient_words = extract_salient_words(VT, vocabulary)\n",
        "\n",
        "for key, value in salient_words:\n",
        "  print(\"Concept {}: {}\".format(str(key), \" \".join(value)))\n",
        "```"
      ]
    },
    {
      "cell_type": "code",
      "metadata": {
        "colab": {
          "base_uri": "https://localhost:8080/"
        },
        "id": "_vmQoATd6L8p",
        "outputId": "8df82dd7-36db-4ba1-a648-af59200550f2"
      },
      "source": [
        "from sklearn.utils.extmath import randomized_svd\n",
        "\n",
        "U, Sigma, VT = randomized_svd(tfidf_matrix,\n",
        "                              n_components=10,\n",
        "                              n_iter=100,\n",
        "                              random_state=42)\n",
        "\n",
        "def extract_salient_words(VT, vocabulary):\n",
        "  salient_words = {}\n",
        "  # print(VT[2])\n",
        "  for i in range(VT.shape[0]):\n",
        "    # print(i)\n",
        "    ind = np.argpartition(VT[i], len(VT[i])-5)[-5:]\n",
        "    # print(ind)\n",
        "    sw = []\n",
        "    for j in ind:\n",
        "      sw.append(vocabulary[j])\n",
        "    salient_words[i] = sw\n",
        "\n",
        "  return salient_words\n",
        "\n",
        "salient_words = extract_salient_words(VT, vocabulary)\n",
        "\n",
        "for key, value in salient_words.items():\n",
        "  print(\"Concept {}: {}\".format(str(key), \" \".join(value)))"
      ],
      "execution_count": null,
      "outputs": [
        {
          "output_type": "stream",
          "name": "stdout",
          "text": [
            "Concept 0: q theorem operator polynomial af\n",
            "Concept 1: diagonalizable theorem operator polynomial af\n",
            "Concept 2: plug temperature arc holder anode\n",
            "Concept 3: jess deegan mike anode phil\n",
            "Concept 4: wtv sections clover nonspecific staining\n",
            "Concept 5: information platform cell text dictionary\n",
            "Concept 6: axis leveling accelerometer gyro platform\n",
            "Concept 7: curve secants c tangent q\n",
            "Concept 8: grams phil cattle milligrams feed\n",
            "Concept 9: anniston eddie deegan phil mike\n"
          ]
        }
      ]
    },
    {
      "cell_type": "markdown",
      "metadata": {
        "id": "HtEdR0wjZ-JN"
      },
      "source": [
        "## Problem 2.3: Document Retrieval\n",
        "\n",
        "Given a text query, view this as a mini document, and compare it to your documents in the low-dimensional space.\n",
        "\n",
        "First, we need to create a vector $\\mathbf{d}$, which is the tf-idf representation of the query. Then we project it into the semantic space with the linear map $\\Sigma^{-1} V^\\top$ learned above. This gives us a pseudo-document embedding $\\hat{\\mathbf{d}}$.\n",
        "\n",
        "$$\\hat{\\mathbf{d}} = \\Sigma^{-1} V^\\top \\mathbf{d}$$\n",
        "\n",
        "Then, you will need to implement a function to calculate the cosine similarity between this embedded query and all the document embeddings.\n",
        "\n",
        "Retrieve the indices of the top-3 documents with the highest cosine similarity with the following queries:\n",
        "\n",
        "\n",
        "```python\n",
        "query1 = ['T.', 'V.', 'Barker', 'developed', 'the', 'classification-angle', 'system']\n",
        "query2 = ['imitation', 'vs.', 'formalism' 'in', 'philosophical', 'debates']\n",
        "query3 = ['Krim', 'attended', 'the', 'University', 'of', 'North', 'Carolina', 'to', 'follow', 'Thomas', 'Wolfe']\n",
        "```\n",
        "\n"
      ]
    },
    {
      "cell_type": "code",
      "metadata": {
        "id": "6Y2AYDFGHozL"
      },
      "source": [
        "query1 = ['T.', 'V.', 'Barker', 'developed', 'the', 'classification-angle', 'system']\n",
        "query2 = ['imitation', 'vs.', 'formalism', 'in', 'philosophical', 'debates']\n",
        "query3 = ['Krim', 'attended', 'the', 'University', 'of', 'North', 'Carolina', 'to', 'follow', 'Thomas', 'Wolfe']\n",
        "\n",
        "queries = []\n",
        "for document in [query1,query2,query3]:\n",
        "  doc=[]\n",
        "  dictionary_single_token = {}\n",
        "  for word in document:\n",
        "    word=word.lower()\n",
        "    if word not in stopwords_list and re.search(p, word):\n",
        "      doc.append(word)\n",
        "      ####### get vocabulary #########\n",
        "      if word not in vocab:\n",
        "        vocab[word] = 1\n",
        "      ####### get each word frequency in a document and count the number of documents the word appears in ######\n",
        "      if word not in dictionary_single_token and word not in term_in_doc:## first time in termindoc and first time in this doc\n",
        "        dictionary_single_token[word] = 1\n",
        "        term_in_doc[word] = 1\n",
        "      elif word in term_in_doc and word not in dictionary_single_token: ## already in termindoc and first time in this doc:\n",
        "        dictionary_single_token[word] = 1\n",
        "        term_in_doc[word] += 1\n",
        "\n",
        "  queries.append(doc)\n",
        "\n",
        "\n",
        "\n",
        "def create_tfidf_matrix(documents):\n",
        "  vocab_list = list(vocab.keys())\n",
        "  matrix=np.array #### something\n",
        "  matrix = np.empty((len(documents),len(vocab.keys())))\n",
        "  # term_in_doc = {}\n",
        "  for i in range(len(documents)):\n",
        "    ###### for each document we get a dictionary containing all words in it, and compute the tf-idf on each word in that document #####\n",
        "    dictionary_single_token = {}\n",
        "    for word in documents[i]:\n",
        "      if word not in dictionary_single_token:  #### note that we take tf to be just the word frequency itself, the word's tf-idf is just the sum of all occurance of that word in the document times idf ######\n",
        "        dictionary_single_token[word] = (1/len(documents[i])) * math.log(501/term_in_doc[word]) ###### document number +1 for each query to account for increase\n",
        "      else:\n",
        "        dictionary_single_token[word] += (1/len(documents[i])) * math.log(501/term_in_doc[word]) ###### document number +1 for each query to account for increase\n",
        "\n",
        "    for j in range(len(vocab.keys())):\n",
        "      if vocab_list[j] in dictionary_single_token.keys():\n",
        "        matrix[i][j] = dictionary_single_token[vocab_list[j]]\n",
        "      else:\n",
        "        matrix[i][j] = 0\n",
        "\n",
        "    # matrix.append(init)\n",
        "\n",
        "  return matrix, vocab_list\n",
        "\n",
        "\n",
        "tfidf_matrix_3q, vocabulary = create_tfidf_matrix(queries)"
      ],
      "execution_count": null,
      "outputs": []
    },
    {
      "cell_type": "code",
      "metadata": {
        "colab": {
          "base_uri": "https://localhost:8080/"
        },
        "id": "oP1caZgGYTXn",
        "outputId": "b6ede2b9-ab57-426e-89ff-5bde0c111823"
      },
      "source": [
        "sigma_inv = np.zeros((Sigma.shape[0],Sigma.shape[0]))\n",
        "for i in range(Sigma.shape[0]):\n",
        "  sigma_inv[i][i] = 1/Sigma[i]\n",
        "\n",
        "def retrie_similar_doc(embd):\n",
        "  def cosine_similarity(vector1, vector2):\n",
        "    # write your code\n",
        "    sum_xy = 0\n",
        "    sum_x2 = 0\n",
        "    sum_y2 = 0\n",
        "\n",
        "    for i in range(len(vector1)):\n",
        "      sum_xy += vector1[i]*vector2[i]\n",
        "      sum_x2 += vector1[i]**2\n",
        "      sum_y2 += vector2[i]**2\n",
        "    return sum_xy/(math.sqrt(sum_x2)*math.sqrt(sum_y2))\n",
        "\n",
        "  cos_sim=[]\n",
        "  for u in U:\n",
        "    cos_sim.append(cosine_similarity(embd,u))\n",
        "  return np.argpartition(cos_sim, len(cos_sim)-3)[-3:]\n",
        "\n",
        "\n",
        "for vec in tfidf_matrix_3q:\n",
        "  pseud_embed = sigma_inv.dot(VT.dot(vec))\n",
        "  ind = retrie_similar_doc(pseud_embed)\n",
        "  print(retrie_similar_doc(pseud_embed))\n",
        "  # for i in ind:\n",
        "  #   print(docs[i])\n",
        "\n"
      ],
      "execution_count": null,
      "outputs": [
        {
          "output_type": "stream",
          "name": "stdout",
          "text": [
            "[138 218 373]\n",
            "[350 244 204]\n",
            "[177 126 240]\n"
          ]
        }
      ]
    },
    {
      "cell_type": "markdown",
      "metadata": {
        "id": "8hE7VtK5a0m5"
      },
      "source": [
        "## Problem 2.4: Document Clustering\n",
        "\n",
        "```python\n",
        "from sklearn.cluster import KMeans\n",
        "import matplotlib.pyplot as plt\n",
        "import seaborn as sns\n",
        "\n",
        "num_clusters = 10\n",
        "km = KMeans(n_clusters=num_clusters)\n",
        "document_embeddings = U * Sigma\n",
        "km.fit(document_embeddings)\n",
        "clusters = km.labels_.tolist()\n",
        "print(clusters)\n",
        "```\n",
        "\n",
        "Let us now plot the document embeddings and their clusters:\n",
        "\n",
        "```python\n",
        "import umap\n",
        "embedding = umap.UMAP(n_neighbors=100, min_dist=0.5, random_state=42).fit_transform(document_embeddings)\n",
        "\n",
        "plt.figure(figsize=(7,5))\n",
        "plt.scatter(embedding[:, 0], embedding[:, 1], c=clusters, s=20, edgecolor='none')\n",
        "plt.show()\n",
        "```\n",
        "\n",
        "What are the differences you observe by using a different number of `n_components` in LSA or `n_clusters` in K-Means?\n",
        "\n",
        "1. Increase `n_clusters` shrinks the right half of the embeddings and creates more clusters in the left half.\n",
        "\n",
        "2. change `n_components` in LSA completely changes the shape of embeddings."
      ]
    },
    {
      "cell_type": "code",
      "metadata": {
        "colab": {
          "base_uri": "https://localhost:8080/"
        },
        "id": "QMB3mlI5pttp",
        "outputId": "2b2cfdd6-6792-467b-aa7b-7dc23971cad5"
      },
      "source": [
        "from sklearn.cluster import KMeans\n",
        "import matplotlib.pyplot as plt\n",
        "import seaborn as sns\n",
        "\n",
        "num_clusters = 50\n",
        "km = KMeans(n_clusters=num_clusters)\n",
        "document_embeddings = U * Sigma\n",
        "km.fit(document_embeddings)\n",
        "clusters = km.labels_.tolist()\n",
        "print(clusters)\n",
        "\n"
      ],
      "execution_count": null,
      "outputs": [
        {
          "output_type": "stream",
          "name": "stdout",
          "text": [
            "[46, 46, 12, 46, 46, 46, 46, 46, 19, 19, 28, 28, 28, 28, 28, 0, 48, 48, 20, 49, 49, 19, 19, 19, 19, 12, 12, 44, 0, 0, 49, 0, 48, 19, 46, 46, 19, 28, 28, 0, 46, 49, 12, 12, 46, 19, 19, 19, 20, 46, 46, 21, 0, 0, 19, 49, 0, 19, 46, 46, 19, 46, 49, 49, 20, 19, 19, 0, 19, 19, 19, 0, 49, 49, 0, 0, 49, 0, 21, 0, 0, 49, 20, 0, 0, 0, 49, 39, 49, 49, 19, 48, 49, 48, 48, 41, 46, 19, 49, 46, 37, 19, 49, 48, 49, 37, 37, 20, 49, 20, 20, 29, 32, 22, 37, 21, 49, 21, 37, 37, 37, 29, 49, 0, 39, 20, 49, 0, 0, 16, 41, 7, 12, 46, 12, 19, 12, 20, 39, 37, 20, 41, 21, 41, 37, 0, 0, 49, 49, 21, 37, 37, 41, 20, 49, 46, 0, 19, 0, 19, 0, 37, 21, 19, 0, 19, 37, 21, 19, 19, 48, 45, 48, 34, 39, 25, 11, 19, 28, 20, 46, 21, 48, 0, 46, 19, 19, 48, 46, 19, 46, 49, 45, 0, 49, 19, 49, 41, 46, 41, 0, 49, 45, 0, 41, 49, 0, 49, 41, 19, 46, 49, 19, 41, 48, 0, 49, 19, 41, 21, 21, 21, 48, 46, 19, 21, 49, 21, 21, 45, 20, 49, 49, 48, 49, 21, 0, 0, 0, 0, 48, 48, 21, 49, 49, 46, 48, 0, 11, 41, 20, 49, 0, 41, 0, 21, 49, 49, 49, 49, 46, 48, 49, 21, 44, 12, 19, 44, 8, 34, 8, 46, 44, 44, 32, 8, 20, 33, 39, 8, 34, 46, 34, 12, 44, 8, 42, 8, 19, 20, 44, 34, 44, 46, 23, 3, 14, 4, 16, 30, 32, 39, 13, 37, 39, 18, 16, 38, 39, 2, 39, 9, 40, 1, 15, 46, 19, 20, 12, 12, 20, 41, 20, 20, 0, 6, 41, 41, 29, 19, 46, 8, 20, 12, 44, 46, 34, 8, 12, 34, 20, 34, 34, 44, 20, 0, 41, 41, 21, 19, 49, 19, 37, 20, 37, 49, 20, 0, 48, 0, 41, 0, 35, 47, 12, 29, 16, 47, 24, 16, 29, 26, 31, 5, 36, 45, 21, 48, 45, 45, 11, 21, 11, 21, 11, 45, 11, 21, 11, 21, 45, 45, 21, 21, 45, 45, 45, 36, 45, 36, 45, 36, 21, 45, 45, 36, 11, 43, 11, 21, 11, 36, 11, 21, 45, 11, 21, 21, 43, 11, 45, 11, 11, 11, 45, 17, 11, 17, 0, 0, 11, 0, 11, 36, 11, 17, 11, 11, 21, 11, 21, 45, 36, 21, 27, 11, 11, 45, 11, 45, 45, 45, 11, 21, 36, 45, 45, 36, 11, 11, 45, 11, 45, 45, 45, 45, 21, 45, 21, 11, 45, 21, 45, 45, 45, 45, 36, 11, 45, 36, 45, 11, 45, 45, 11, 10, 21, 11, 45, 45, 0, 21, 21, 0, 21, 21, 21, 45, 0, 0]\n"
          ]
        }
      ]
    },
    {
      "cell_type": "code",
      "metadata": {
        "colab": {
          "base_uri": "https://localhost:8080/",
          "height": 808
        },
        "id": "GAftmqUoq7iv",
        "outputId": "1457d5ef-fe43-4a78-ebd9-db127b7de3ec"
      },
      "source": [
        "!pip install umap-learn\n",
        "import umap.umap_ as umap\n",
        "\n",
        "embedding = umap.UMAP(n_neighbors=100, min_dist=0.5, random_state=42).fit_transform(document_embeddings)\n",
        "\n",
        "plt.figure(figsize=(7,5))\n",
        "plt.scatter(embedding[:, 0], embedding[:, 1], c=clusters, s=20, edgecolor='none')\n",
        "plt.show()"
      ],
      "execution_count": null,
      "outputs": [
        {
          "output_type": "stream",
          "name": "stdout",
          "text": [
            "Collecting umap-learn\n",
            "  Downloading umap-learn-0.5.1.tar.gz (80 kB)\n",
            "\u001b[K     |████████████████████████████████| 80 kB 5.3 MB/s \n",
            "\u001b[?25hRequirement already satisfied: numpy>=1.17 in /usr/local/lib/python3.7/dist-packages (from umap-learn) (1.19.5)\n",
            "Requirement already satisfied: scikit-learn>=0.22 in /usr/local/lib/python3.7/dist-packages (from umap-learn) (0.22.2.post1)\n",
            "Requirement already satisfied: scipy>=1.0 in /usr/local/lib/python3.7/dist-packages (from umap-learn) (1.4.1)\n",
            "Requirement already satisfied: numba>=0.49 in /usr/local/lib/python3.7/dist-packages (from umap-learn) (0.51.2)\n",
            "Collecting pynndescent>=0.5\n",
            "  Downloading pynndescent-0.5.5.tar.gz (1.1 MB)\n",
            "\u001b[K     |████████████████████████████████| 1.1 MB 75.3 MB/s \n",
            "\u001b[?25hRequirement already satisfied: setuptools in /usr/local/lib/python3.7/dist-packages (from numba>=0.49->umap-learn) (57.4.0)\n",
            "Requirement already satisfied: llvmlite<0.35,>=0.34.0.dev0 in /usr/local/lib/python3.7/dist-packages (from numba>=0.49->umap-learn) (0.34.0)\n",
            "Requirement already satisfied: joblib>=0.11 in /usr/local/lib/python3.7/dist-packages (from pynndescent>=0.5->umap-learn) (1.0.1)\n",
            "Building wheels for collected packages: umap-learn, pynndescent\n",
            "  Building wheel for umap-learn (setup.py) ... \u001b[?25l\u001b[?25hdone\n",
            "  Created wheel for umap-learn: filename=umap_learn-0.5.1-py3-none-any.whl size=76564 sha256=6f3711965c3afb3c0302b880d55fbe1dab6eba9952cb46bdde49b4f80029569d\n",
            "  Stored in directory: /root/.cache/pip/wheels/01/e7/bb/347dc0e510803d7116a13d592b10cc68262da56a8eec4dd72f\n",
            "  Building wheel for pynndescent (setup.py) ... \u001b[?25l\u001b[?25hdone\n",
            "  Created wheel for pynndescent: filename=pynndescent-0.5.5-py3-none-any.whl size=52603 sha256=181980288037c89ffdc8045c214138288925d7813da8eddfdc841a35cd1d3850\n",
            "  Stored in directory: /root/.cache/pip/wheels/af/e9/33/04db1436df0757c42fda8ea6796d7a8586e23c85fac355f476\n",
            "Successfully built umap-learn pynndescent\n",
            "Installing collected packages: pynndescent, umap-learn\n",
            "Successfully installed pynndescent-0.5.5 umap-learn-0.5.1\n"
          ]
        },
        {
          "output_type": "stream",
          "name": "stderr",
          "text": [
            "/usr/local/lib/python3.7/dist-packages/numba/np/ufunc/parallel.py:363: NumbaWarning: The TBB threading layer requires TBB version 2019.5 or later i.e., TBB_INTERFACE_VERSION >= 11005. Found TBB_INTERFACE_VERSION = 9107. The TBB threading layer is disabled.\n",
            "  warnings.warn(problem)\n"
          ]
        },
        {
          "output_type": "display_data",
          "data": {
            "image/png": "[encoded data removed]",
            "text/plain": [
              "<Figure size 504x360 with 1 Axes>"
            ]
          },
          "metadata": {
            "needs_background": "light"
          }
        }
      ]
    },
    {
      "cell_type": "markdown",
      "metadata": {
        "id": "aWIwJM95IsLZ"
      },
      "source": [
        "## Problem 2.5 Latent Dirichlet Allocation\n",
        "\n",
        "Run LDA on `documents` using `sklearn` (find the documentation at this [link](https://scikit-learn.org/stable/modules/generated/sklearn.decomposition.LatentDirichletAllocation.html#sklearn.decomposition.LatentDirichletAllocation))\n",
        "\n",
        "Make sure to specify `random_state=42` for replicability.\n",
        "\n",
        "What are the topics allocated to each word of document number 13?"
      ]
    },
    {
      "cell_type": "code",
      "metadata": {
        "colab": {
          "base_uri": "https://localhost:8080/"
        },
        "id": "rc-j5rsLJaeX",
        "outputId": "6cad1bf7-dafb-40d0-f2fd-32f2feaaeb96"
      },
      "source": [
        "print(documents[13])"
      ],
      "execution_count": null,
      "outputs": [
        {
          "output_type": "stream",
          "name": "stdout",
          "text": [
            "['Philadelphia', ',', 'Jan.', '23', '--', 'Nick', ...]\n"
          ]
        }
      ]
    },
    {
      "cell_type": "code",
      "metadata": {
        "colab": {
          "base_uri": "https://localhost:8080/"
        },
        "id": "-E0KIkqOqD8H",
        "outputId": "32e49e48-8653-4476-bbd6-b80f1212695b"
      },
      "source": [
        "# Write your code here.\n",
        "from sklearn.decomposition import LatentDirichletAllocation\n",
        "\n",
        "lda = LatentDirichletAllocation(n_components=5,random_state=42)\n",
        "\n",
        "# doc13=[]\n",
        "# dict13 = {}\n",
        "\n",
        "# for word in documents[13]:\n",
        "#   word=word.lower()\n",
        "#   if word not in stopwords_list and re.search(p, word):\n",
        "#     doc13.append(word)\n",
        "#     if word not in dict13:\n",
        "#       dict13[word] = 1\n",
        "#     else:\n",
        "#       dict13[word] += 1\n",
        "\n",
        "# doc13freq = []\n",
        "# for i in range(len(doc13)):\n",
        "#   doc13freq.append(dict13[doc13[i]])\n",
        "\n",
        "# print(doc13)\n",
        "# print(doc13freq)\n",
        "doc_topic_distr=lda.fit_transform(tfidf_matrix)\n",
        "print(doc_topic_distr[13])"
      ],
      "execution_count": null,
      "outputs": [
        {
          "output_type": "stream",
          "name": "stdout",
          "text": [
            "[0.05265934 0.05265934 0.05265934 0.78936262 0.05265934]\n"
          ]
        }
      ]
    },
    {
      "cell_type": "code",
      "metadata": {
        "id": "6MJWaXPLpf40"
      },
      "source": [
        "# def print_top_words(model, feature_names, n_top_words):\n",
        "#     for topic_id, topic in enumerate(model.components_):\n",
        "#         print('\\nTopic Nr.%d:' % int(topic_id + 1))\n",
        "#         print(''.join([feature_names[i] + ' ' + str(round(topic[i], 2))\n",
        "#               +' | ' for i in topic.argsort()[:-n_top_words - 1:-1]]))\n",
        "# n_top_words = 4\n",
        "# tf_feature_names = doc13\n",
        "# print_top_words(lda, tf_feature_names, n_top_words)"
      ],
      "execution_count": null,
      "outputs": []
    },
    {
      "cell_type": "code",
      "metadata": {
        "id": "1VOjDiycr2o0"
      },
      "source": [
        "# words_topics = np.transpose(lda.components_)\n",
        "# list_topics_for_each_word = []\n",
        "# for i in range(words_topics.shape[0]):\n",
        "#   list_topics_for_each_word.append(np.argmax(words_topics[i]))\n",
        "# print(list_topics_for_each_word)\n",
        "# print(list_topics_for_each_word.count(0))\n",
        "# print(words_topics[:30])"
      ],
      "execution_count": null,
      "outputs": []
    },
    {
      "cell_type": "markdown",
      "metadata": {
        "id": "Kv6skryKwMPX"
      },
      "source": [
        "It seems all words are assigned topic 1, which is league."
      ]
    }
  ]
}
