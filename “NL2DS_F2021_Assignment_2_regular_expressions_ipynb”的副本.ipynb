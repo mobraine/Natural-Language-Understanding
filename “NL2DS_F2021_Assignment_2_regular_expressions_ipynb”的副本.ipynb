{
  "nbformat": 4,
  "nbformat_minor": 0,
  "metadata": {
    "colab": {
      "provenance": [],
      "include_colab_link": true
    },
    "kernelspec": {
      "name": "python3",
      "display_name": "Python 3"
    }
  },
  "cells": [
    {
      "cell_type": "markdown",
      "metadata": {
        "id": "view-in-github",
        "colab_type": "text"
      },
      "source": [
        "<a href=\"https://colab.research.google.com/github/mobraine/Natural-Language-Understanding/blob/main/%E2%80%9CNL2DS_F2021_Assignment_2_regular_expressions_ipynb%E2%80%9D%E7%9A%84%E5%89%AF%E6%9C%AC.ipynb\" target=\"_parent\"><img src=\"https://colab.research.google.com/assets/colab-badge.svg\" alt=\"Open In Colab\"/></a>"
      ]
    },
    {
      "cell_type": "markdown",
      "metadata": {
        "id": "jpPo-0zjUGkA"
      },
      "source": [
        "# Problem 1\n",
        "\n",
        "\n",
        "---\n",
        "\n"
      ]
    },
    {
      "cell_type": "markdown",
      "metadata": {
        "id": "EORfPYZbhqyf"
      },
      "source": [
        "\n",
        "Write regular expressions that match the output strings in the given set of input strings.\n",
        "\n",
        "\n",
        "#### Problem 1.1\n",
        "Input:\n",
        "```\n",
        "xyxyxyx\n",
        "xxyx\n",
        "xxyyxx\n",
        "xyx\n",
        "xxyxyxyx\n",
        "```\n",
        "\n",
        "Output:\n",
        "```\n",
        "xxyx\n",
        "xxyxyxyx\n",
        "```\n",
        "\n",
        "Note: Do not use the regular expression which resembles `(word1|word2)`. This defeats the purpose of the regular expression."
      ]
    },
    {
      "cell_type": "code",
      "metadata": {
        "id": "s3fasx98SqmM",
        "colab": {
          "base_uri": "https://localhost:8080/"
        },
        "outputId": "f4ce4520-a3f7-4638-fff3-1a3f926078b7"
      },
      "source": [
        "import re\n",
        "\n",
        "words = [\"xyxyxyx\", \"xxyx\", \"xxyyxx\", \"xyx\", \"xxyxyxyx\"]\n",
        "pattern = re.compile(\"xxyx\")\n",
        "for word in words:\n",
        "  if pattern.match(word):\n",
        "    print(word)"
      ],
      "execution_count": null,
      "outputs": [
        {
          "output_type": "stream",
          "name": "stdout",
          "text": [
            "xxyx\n",
            "xxyxyxyx\n"
          ]
        }
      ]
    },
    {
      "cell_type": "markdown",
      "metadata": {
        "id": "alK7uvOIV0bn"
      },
      "source": [
        "#### Problem 1.2\n",
        "Input:\n",
        "```\n",
        "xyz\n",
        "xz\n",
        "xyyy\n",
        "yyz\n",
        "```\n",
        "\n",
        "Output:\n",
        "```\n",
        "xyz\n",
        "xyyy\n",
        "```"
      ]
    },
    {
      "cell_type": "code",
      "metadata": {
        "id": "iX-nXRtzWkKr",
        "colab": {
          "base_uri": "https://localhost:8080/"
        },
        "outputId": "4d3a5b90-3294-4cc3-85c5-d85631cce4bf"
      },
      "source": [
        "# write code\n",
        "words = [\"xyz\",\n",
        "\"xz\",\n",
        "\"xyyy\",\n",
        "\"yyz\"]\n",
        "pattern = re.compile(\"xy\")\n",
        "for word in words:\n",
        "  if pattern.match(word):\n",
        "    print(word)"
      ],
      "execution_count": null,
      "outputs": [
        {
          "output_type": "stream",
          "name": "stdout",
          "text": [
            "xyz\n",
            "xyyy\n"
          ]
        }
      ]
    },
    {
      "cell_type": "markdown",
      "metadata": {
        "id": "YvPLBmtpWvv6"
      },
      "source": [
        "#### Problem 1.3\n",
        "\n",
        "Input:\n",
        "```\n",
        "xyz\n",
        "xyyyyyyyy\n",
        "xzz\n",
        "xyzyzyzyz\n",
        "xz\n",
        "xszzyyyyzyzzzz\n",
        " ```\n",
        "\n",
        "Output:\n",
        "```\n",
        "xyz\n",
        "xyyyyyyyy\n",
        "xzz\n",
        "xyzyzyzyz\n",
        "xszzyyyyzyzzzz\n",
        "```\n",
        "\n",
        "Note: Do not use the expression the  ```[^(xz)]$```. Use positive strings to define the regular expression."
      ]
    },
    {
      "cell_type": "code",
      "metadata": {
        "id": "O91H-AuRZZGg",
        "colab": {
          "base_uri": "https://localhost:8080/"
        },
        "outputId": "90b94af7-78bd-4b82-8815-10ee9d1267b9"
      },
      "source": [
        "# write code\n",
        "words = [\"xyz\",\n",
        "\"xyyyyyyyy\",\n",
        "\"xzz\",\n",
        "\"xyzyzyzyz\",\n",
        "\"xz\",\n",
        "\"xszzyyyyzyzzzz\"]\n",
        "pattern = re.compile(\"x[yzs][yzs]+\")\n",
        "for word in words:\n",
        "  if pattern.match(word):\n",
        "    print(word)"
      ],
      "execution_count": null,
      "outputs": [
        {
          "output_type": "stream",
          "name": "stdout",
          "text": [
            "xyz\n",
            "xyyyyyyyy\n",
            "xzz\n",
            "xyzyzyzyz\n",
            "xszzyyyyzyzzzz\n"
          ]
        }
      ]
    },
    {
      "cell_type": "markdown",
      "metadata": {
        "id": "Sl29e2t8Zfnh"
      },
      "source": [
        "#### Problem 1.4\n",
        "\n",
        "Input:\n",
        "```\n",
        "x. y\n",
        "x?  Y\n",
        "x! y\n",
        "x y\n",
        "x.  Y\n",
        "x Y\n",
        "```\n",
        "\n",
        "Ouput:\n",
        "```\n",
        "x. y\n",
        "x?  Y\n",
        "x! y\n",
        "x.  Y\n",
        "```\n"
      ]
    },
    {
      "cell_type": "code",
      "metadata": {
        "id": "X1pJaNywZedv",
        "colab": {
          "base_uri": "https://localhost:8080/"
        },
        "outputId": "38fc0bf1-4618-4152-eafd-5216d39d3e84"
      },
      "source": [
        "# write code\n",
        "words = [\"x. y\",\n",
        "\"x?  Y\",\n",
        "\"x! y\",\n",
        "\"x y\",\n",
        "\"x.  Y\",\n",
        "\"x Y\"]\n",
        "pattern = re.compile(\"x[\\.\\?\\!]\")\n",
        "for word in words:\n",
        "  if pattern.match(word):\n",
        "    print(word)"
      ],
      "execution_count": null,
      "outputs": [
        {
          "output_type": "stream",
          "name": "stdout",
          "text": [
            "x. y\n",
            "x?  Y\n",
            "x! y\n",
            "x.  Y\n"
          ]
        }
      ]
    },
    {
      "cell_type": "markdown",
      "metadata": {
        "id": "lWCIT3K_wYPH"
      },
      "source": [
        "#### Problem 1.5\n",
        "\n",
        "Input:\n",
        "\n",
        "```\n",
        "<html class=\"client-nojs\" lang=\"en\" dir=\"ltr\">\n",
        "<table class=\"infobox biota\" style=\"text-align: left; width: 200px; font-size: 100%\">\n",
        "```\n",
        "\n",
        "Output:\n",
        "```\n",
        "tags:\n",
        "html\n",
        "table\n",
        "\n",
        "keys:\n",
        "class\n",
        "lang\n",
        "dir\n",
        "style\n",
        "\n",
        "values:\n",
        "client-nojs; infobox biota\n",
        "en\n",
        "ltr\n",
        "text-align: left; width: 200px; font-size: 100%\n",
        "```\n",
        "\n",
        "Note: Your code must either use the function group() or the concept of groups in findall() to find tags, keys and values. Do not write separate regular expression for each input line. The code has to make use of the same regular expression for each line."
      ]
    },
    {
      "cell_type": "code",
      "metadata": {
        "id": "X0FT9S_Jvnbc",
        "colab": {
          "base_uri": "https://localhost:8080/"
        },
        "outputId": "f7417626-7b54-452e-8095-916e96064684"
      },
      "source": [
        "input_lines = ['<html class=\"client-nojs\" lang=\"en\" dir=\"ltr\">', '<table class=\"infobox biota\" style=\"text-align: left; width: 200px; font-size: 100%\">']\n",
        "\n",
        "# write code\n",
        "\n",
        "# regex = r'\\<(?P<tags>\\w+)(?P<key_val> (?P<keys>\\w+)=\\\"(?P<values>[a-zA-Z0-9\\-\\;\\:\\%\\s]*)\\\")+\\>'\n",
        "regex = r'\\<(?P<tags>\\w+)|(?P<keys>\\w+)=\\\"(?P<values>[a-zA-Z0-9\\-\\;\\:\\%\\s]*)\\\"'\n",
        "pattern = re.compile(regex)\n",
        "# regex = r'\\<(?P<tags>\\w+) '\n",
        "\n",
        "tags = []\n",
        "keys = {}\n",
        "\n",
        "for input in input_lines:\n",
        "  # print(pattern.findall(input))\n",
        "  for item in pattern.findall(input):\n",
        "    if item[0] == '':\n",
        "      if item[1] not in keys:\n",
        "        keys[item[1]] = item[2]\n",
        "      else:\n",
        "        keys[item[1]] = keys[item[1]] + '; ' + item[2]\n",
        "      # keys.append(item[1])\n",
        "      # values.append(item[2])\n",
        "    else:\n",
        "      tags.append(item[0])\n",
        "\n",
        "\n",
        "\n",
        "print(\"tags: \")\n",
        "for tag in tags:\n",
        "  print(tag)\n",
        "print(\"\\n\")\n",
        "print(\"keys: \")\n",
        "for key in keys.keys():\n",
        "  print(key)\n",
        "print(\"\\n\")\n",
        "print(\"values: \")\n",
        "for value in keys.values():\n",
        "  print(value)"
      ],
      "execution_count": null,
      "outputs": [
        {
          "output_type": "stream",
          "name": "stdout",
          "text": [
            "tags: \n",
            "html\n",
            "table\n",
            "\n",
            "\n",
            "keys: \n",
            "class\n",
            "lang\n",
            "dir\n",
            "style\n",
            "\n",
            "\n",
            "values: \n",
            "client-nojs; infobox biota\n",
            "en\n",
            "ltr\n",
            "text-align: left; width: 200px; font-size: 100%\n"
          ]
        }
      ]
    },
    {
      "cell_type": "markdown",
      "metadata": {
        "id": "0SehLKyuQM4Q"
      },
      "source": [
        "\n",
        "\n",
        "## Problem 2 and 3\n",
        "\n",
        "See https://docs.google.com/document/d/1h4JoDFDeZpuD7msH0_1jgIz8EvjPMbB7pL_5qTksFY8/edit?usp=sharing\n",
        "\n"
      ]
    }
  ]
}